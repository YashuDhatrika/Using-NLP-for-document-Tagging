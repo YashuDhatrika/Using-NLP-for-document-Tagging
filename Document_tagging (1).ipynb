{
  "nbformat": 4,
  "nbformat_minor": 0,
  "metadata": {
    "colab": {
      "name": "Document tagging.ipynb",
      "provenance": [],
      "collapsed_sections": []
    },
    "kernelspec": {
      "name": "python3",
      "display_name": "Python 3"
    }
  },
  "cells": [
    {
      "cell_type": "code",
      "metadata": {
        "id": "DpcPyyORA9vR",
        "colab_type": "code",
        "outputId": "32c6dd88-e549-40aa-95d3-1043b57e3620",
        "colab": {
          "base_uri": "https://localhost:8080/",
          "height": 68
        }
      },
      "source": [
        "import sys\n",
        "\n",
        "\n",
        "import pandas as pd #collection of functions for data processing and analysis \n",
        "import matplotlib #collection of functions for scientific  visualization\n",
        "\n",
        "from collections import Counter\n",
        "import numpy as np #package for scientific computing\n",
        "\n",
        "import matplotlib.pyplot as plt\n",
        "\n",
        "import logging\n",
        "import pandas as pd\n",
        "import numpy as np\n",
        "from numpy import random\n",
        "import gensim\n",
        "import nltk\n",
        "from sklearn.model_selection import train_test_split\n",
        "from sklearn.feature_extraction.text import CountVectorizer, TfidfVectorizer\n",
        "from sklearn.metrics import accuracy_score, confusion_matrix\n",
        "import matplotlib.pyplot as plt\n",
        "from nltk.corpus import stopwords\n",
        "import re\n",
        "from bs4 import BeautifulSoup\n",
        "nltk.download('stopwords')\n"
      ],
      "execution_count": 0,
      "outputs": [
        {
          "output_type": "stream",
          "text": [
            "[nltk_data] Downloading package stopwords to /root/nltk_data...\n",
            "[nltk_data]   Package stopwords is already up-to-date!\n"
          ],
          "name": "stdout"
        },
        {
          "output_type": "execute_result",
          "data": {
            "text/plain": [
              "True"
            ]
          },
          "metadata": {
            "tags": []
          },
          "execution_count": 3
        }
      ]
    },
    {
      "cell_type": "code",
      "metadata": {
        "id": "WvYCTHD1BUrY",
        "colab_type": "code",
        "outputId": "ec8db9c5-2880-46fa-b120-7400828285f9",
        "colab": {
          "base_uri": "https://localhost:8080/",
          "height": 68
        }
      },
      "source": [
        "df = pd.read_csv('combined_data.csv',encoding = \"ISO-8859-1\")\n",
        "df.shape"
      ],
      "execution_count": 0,
      "outputs": [
        {
          "output_type": "stream",
          "text": [
            "/usr/local/lib/python3.6/dist-packages/IPython/core/interactiveshell.py:2718: DtypeWarning: Columns (1) have mixed types. Specify dtype option on import or set low_memory=False.\n",
            "  interactivity=interactivity, compiler=compiler, result=result)\n"
          ],
          "name": "stderr"
        },
        {
          "output_type": "execute_result",
          "data": {
            "text/plain": [
              "(162455, 8)"
            ]
          },
          "metadata": {
            "tags": []
          },
          "execution_count": 5
        }
      ]
    },
    {
      "cell_type": "code",
      "metadata": {
        "id": "VRIkRN6ZEa_D",
        "colab_type": "code",
        "colab": {}
      },
      "source": [
        "df=df[['File', 'Import', 'Account', 'Year', 'Month', 'Tag']]\n",
        "df=df[['File', 'Tag']]"
      ],
      "execution_count": 0,
      "outputs": []
    },
    {
      "cell_type": "code",
      "metadata": {
        "id": "go-qdNIpEsiq",
        "colab_type": "code",
        "outputId": "ef5ef19a-f3b6-4f6a-f78f-99d72ab8d355",
        "colab": {
          "base_uri": "https://localhost:8080/",
          "height": 197
        }
      },
      "source": [
        "df.head()"
      ],
      "execution_count": 0,
      "outputs": [
        {
          "output_type": "execute_result",
          "data": {
            "text/html": [
              "<div>\n",
              "<style scoped>\n",
              "    .dataframe tbody tr th:only-of-type {\n",
              "        vertical-align: middle;\n",
              "    }\n",
              "\n",
              "    .dataframe tbody tr th {\n",
              "        vertical-align: top;\n",
              "    }\n",
              "\n",
              "    .dataframe thead th {\n",
              "        text-align: right;\n",
              "    }\n",
              "</style>\n",
              "<table border=\"1\" class=\"dataframe\">\n",
              "  <thead>\n",
              "    <tr style=\"text-align: right;\">\n",
              "      <th></th>\n",
              "      <th>File</th>\n",
              "      <th>Tag</th>\n",
              "    </tr>\n",
              "  </thead>\n",
              "  <tbody>\n",
              "    <tr>\n",
              "      <th>0</th>\n",
              "      <td>\\Clients\\A-D\\Carter's Home Improvement LLC\\Acc...</td>\n",
              "      <td>Tax</td>\n",
              "    </tr>\n",
              "    <tr>\n",
              "      <th>1</th>\n",
              "      <td>\\Clients\\A-D\\Carter's Home Improvement LLC\\Acc...</td>\n",
              "      <td>Tax</td>\n",
              "    </tr>\n",
              "    <tr>\n",
              "      <th>2</th>\n",
              "      <td>\\Clients\\A-D\\Carter's Home Improvement LLC\\Acc...</td>\n",
              "      <td>Tax</td>\n",
              "    </tr>\n",
              "    <tr>\n",
              "      <th>3</th>\n",
              "      <td>\\Clients\\A-D\\Carter's Home Improvement LLC\\Acc...</td>\n",
              "      <td>Statements</td>\n",
              "    </tr>\n",
              "    <tr>\n",
              "      <th>4</th>\n",
              "      <td>\\Clients\\A-D\\Carter's Home Improvement LLC\\Acc...</td>\n",
              "      <td>Statements</td>\n",
              "    </tr>\n",
              "  </tbody>\n",
              "</table>\n",
              "</div>"
            ],
            "text/plain": [
              "                                                File         Tag\n",
              "0  \\Clients\\A-D\\Carter's Home Improvement LLC\\Acc...         Tax\n",
              "1  \\Clients\\A-D\\Carter's Home Improvement LLC\\Acc...         Tax\n",
              "2  \\Clients\\A-D\\Carter's Home Improvement LLC\\Acc...         Tax\n",
              "3  \\Clients\\A-D\\Carter's Home Improvement LLC\\Acc...  Statements\n",
              "4  \\Clients\\A-D\\Carter's Home Improvement LLC\\Acc...  Statements"
            ]
          },
          "metadata": {
            "tags": []
          },
          "execution_count": 7
        }
      ]
    },
    {
      "cell_type": "code",
      "metadata": {
        "id": "EzwTX_KKFh3q",
        "colab_type": "code",
        "outputId": "eb7c8a68-f23e-4bf4-e6ca-9122f38e6322",
        "colab": {
          "base_uri": "https://localhost:8080/",
          "height": 68
        }
      },
      "source": [
        "df.dtypes"
      ],
      "execution_count": 0,
      "outputs": [
        {
          "output_type": "execute_result",
          "data": {
            "text/plain": [
              "File    object\n",
              "Tag     object\n",
              "dtype: object"
            ]
          },
          "metadata": {
            "tags": []
          },
          "execution_count": 34
        }
      ]
    },
    {
      "cell_type": "code",
      "metadata": {
        "id": "TdrvQ9-0Fn5U",
        "colab_type": "code",
        "outputId": "e914a9b6-cf86-40f3-d63d-6f87164b5aea",
        "colab": {
          "base_uri": "https://localhost:8080/",
          "height": 68
        }
      },
      "source": [
        "df.isnull().sum()"
      ],
      "execution_count": 0,
      "outputs": [
        {
          "output_type": "execute_result",
          "data": {
            "text/plain": [
              "File       0\n",
              "Tag     3518\n",
              "dtype: int64"
            ]
          },
          "metadata": {
            "tags": []
          },
          "execution_count": 15
        }
      ]
    },
    {
      "cell_type": "code",
      "metadata": {
        "id": "LAFg_WNsGA43",
        "colab_type": "code",
        "colab": {}
      },
      "source": [
        "df_notnull=df[df.Tag.notnull()]\n",
        "df_null=df[pd.isnull(df['Tag'])]"
      ],
      "execution_count": 0,
      "outputs": []
    },
    {
      "cell_type": "code",
      "metadata": {
        "id": "Ya1vCMgxHjn_",
        "colab_type": "code",
        "outputId": "4a47869f-d6a7-48e4-a1e3-61fcc3a8d2de",
        "colab": {
          "base_uri": "https://localhost:8080/",
          "height": 34
        }
      },
      "source": [
        "df.shape\n",
        "df_notnull.shape\n",
        "# df_null.shape"
      ],
      "execution_count": 0,
      "outputs": [
        {
          "output_type": "execute_result",
          "data": {
            "text/plain": [
              "(158937, 2)"
            ]
          },
          "metadata": {
            "tags": []
          },
          "execution_count": 20
        }
      ]
    },
    {
      "cell_type": "code",
      "metadata": {
        "id": "jc9BFAskHt1e",
        "colab_type": "code",
        "outputId": "e304219a-d2fe-458c-ee66-73d04e0f5f31",
        "colab": {
          "base_uri": "https://localhost:8080/",
          "height": 712
        }
      },
      "source": [
        "fig = plt.figure(figsize=(10, 10))\n",
        "\n",
        "df_notnull['Tag'].value_counts().plot.bar()"
      ],
      "execution_count": 0,
      "outputs": [
        {
          "output_type": "execute_result",
          "data": {
            "text/plain": [
              "<matplotlib.axes._subplots.AxesSubplot at 0x7fdbb96b23c8>"
            ]
          },
          "metadata": {
            "tags": []
          },
          "execution_count": 25
        },
        {
          "output_type": "display_data",
          "data": {
            "image/png": "[encoded data removed]",
            "text/plain": [
              "<Figure size 720x720 with 1 Axes>"
            ]
          },
          "metadata": {
            "tags": []
          }
        }
      ]
    },
    {
      "cell_type": "code",
      "metadata": {
        "id": "ce6_-lLvzP5s",
        "colab_type": "code",
        "outputId": "c96c5e46-b0b9-48e7-cee3-695c31486d4b",
        "colab": {
          "base_uri": "https://localhost:8080/",
          "height": 597
        }
      },
      "source": [
        "df_notnull['Tag'].value_counts()"
      ],
      "execution_count": 0,
      "outputs": [
        {
          "output_type": "execute_result",
          "data": {
            "text/plain": [
              "Tax                     64731\n",
              "Permanent               16690\n",
              "Payroll                 15719\n",
              "Bookkeeping             12417\n",
              "Financial               11682\n",
              "Source Data             11355\n",
              "Notice                   7677\n",
              "Source Documents         4806\n",
              "Statements               2890\n",
              "EXCLUDE                  2262\n",
              "Sales Tax                1537\n",
              "1099                     1513\n",
              "Sales                    1472\n",
              "Payroll Tax              1056\n",
              "Tax Return                774\n",
              "Audit                     605\n",
              "Bank & CC Statements      474\n",
              "Miscellaneous             412\n",
              "Historical                324\n",
              "Property Tax              182\n",
              "Marketing                 150\n",
              "Leases                     81\n",
              "Permanent-Tax              46\n",
              "Expenses (AP)              26\n",
              "Loans                      26\n",
              "Payroll-Permanent          14\n",
              "Receivables (AR)            3\n",
              "Insurance                   3\n",
              "Financial-Tax               3\n",
              "Income                      3\n",
              "Permanent-Payroll           2\n",
              "Reconciliations             1\n",
              "Permanent-Financial         1\n",
              "Name: Tag, dtype: int64"
            ]
          },
          "metadata": {
            "tags": []
          },
          "execution_count": 65
        }
      ]
    },
    {
      "cell_type": "code",
      "metadata": {
        "id": "Sy1M2LRAzo2j",
        "colab_type": "code",
        "colab": {}
      },
      "source": [
        "df_notnull=df_notnull.loc[(df_notnull['Tag'] != 'Reconciliations') & (df_notnull['Tag']!= 'Permanent-Financial')]"
      ],
      "execution_count": 0,
      "outputs": []
    },
    {
      "cell_type": "code",
      "metadata": {
        "id": "PcdUbrlW0Iq6",
        "colab_type": "code",
        "outputId": "ac3491ec-feff-4214-8d2d-a4fb16ef1b21",
        "colab": {
          "base_uri": "https://localhost:8080/",
          "height": 34
        }
      },
      "source": [
        "df_notnull.shape\n",
        "\n"
      ],
      "execution_count": 0,
      "outputs": [
        {
          "output_type": "execute_result",
          "data": {
            "text/plain": [
              "(158935, 2)"
            ]
          },
          "metadata": {
            "tags": []
          },
          "execution_count": 71
        }
      ]
    },
    {
      "cell_type": "code",
      "metadata": {
        "id": "QFzzdsVOzVkA",
        "colab_type": "code",
        "colab": {}
      },
      "source": [
        "# removing Reconciliations and Permanent-Financial \n",
        "\n"
      ],
      "execution_count": 0,
      "outputs": []
    },
    {
      "cell_type": "markdown",
      "metadata": {
        "id": "_C5T_FqNeskK",
        "colab_type": "text"
      },
      "source": [
        "## Preprocessing \n"
      ]
    },
    {
      "cell_type": "code",
      "metadata": {
        "id": "UjkpurYoIYaq",
        "colab_type": "code",
        "colab": {}
      },
      "source": [
        "REPLACE_BY_SPACE_RE = re.compile('[/(){}\\[\\]\\|@,;]')\n",
        "BAD_SYMBOLS_RE = re.compile('[^0-9a-z #+_]')\n",
        "STOPWORDS = set(stopwords.words('english'))\n",
        "\n",
        "def clean_text(text):\n",
        "    \"\"\"\n",
        "        text: a string\n",
        "        \n",
        "        return: modified initial string\n",
        "    \"\"\"\n",
        "    text = BeautifulSoup(text, \"lxml\").text # HTML decoding\n",
        "    text =text.lower() # lowercase text\n",
        "    text=text.replace('\\\\',\" \")\n",
        "    text=text.replace('/',\" \")\n",
        "    text=text.replace(\"-\", \" \")\n",
        "    text = REPLACE_BY_SPACE_RE.sub(' ', text) # replace REPLACE_BY_SPACE_RE symbols by space in text\n",
        "    text = BAD_SYMBOLS_RE.sub('', text) # delete symbols which are in BAD_SYMBOLS_RE from text\n",
        "    text = ' '.join(word for word in text.split() if word not in STOPWORDS) # delete stopwors from text\n",
        "    return text\n",
        "    \n",
        "df_notnull['File'] = df_notnull['File'].apply(clean_text)"
      ],
      "execution_count": 0,
      "outputs": []
    },
    {
      "cell_type": "code",
      "metadata": {
        "id": "Usn8nH2loluJ",
        "colab_type": "code",
        "colab": {}
      },
      "source": [
        ""
      ],
      "execution_count": 0,
      "outputs": []
    },
    {
      "cell_type": "code",
      "metadata": {
        "id": "NwdsfIj6h_5A",
        "colab_type": "code",
        "outputId": "7e8c4295-83ea-4422-ebe4-2a6182658218",
        "colab": {
          "base_uri": "https://localhost:8080/",
          "height": 34
        }
      },
      "source": [
        "df_notnull['File'][0]"
      ],
      "execution_count": 0,
      "outputs": [
        {
          "output_type": "execute_result",
          "data": {
            "text/plain": [
              "'clients carters home improvement llc accounting services 2018 2018 1099 copy 1 cpdf'"
            ]
          },
          "metadata": {
            "tags": []
          },
          "execution_count": 73
        }
      ]
    },
    {
      "cell_type": "code",
      "metadata": {
        "id": "fDmEXeVtpPyQ",
        "colab_type": "code",
        "outputId": "2b90db1d-edc9-4a6c-bdd6-97d613f5e984",
        "colab": {
          "base_uri": "https://localhost:8080/",
          "height": 34
        }
      },
      "source": [
        "df_notnull['File'].apply(lambda x: len(x.split(' '))).sum()\n",
        "\n",
        "#~1.8 Million words"
      ],
      "execution_count": 0,
      "outputs": [
        {
          "output_type": "execute_result",
          "data": {
            "text/plain": [
              "1832421"
            ]
          },
          "metadata": {
            "tags": []
          },
          "execution_count": 55
        }
      ]
    },
    {
      "cell_type": "code",
      "metadata": {
        "id": "PWTx97t7pabU",
        "colab_type": "code",
        "colab": {}
      },
      "source": [
        "X = df_notnull['File']\n",
        "y = df_notnull['Tag']\n",
        "X_train, X_test, y_train, y_test = train_test_split(X, y, test_size=0.25, random_state = 42,stratify=y)"
      ],
      "execution_count": 0,
      "outputs": []
    },
    {
      "cell_type": "code",
      "metadata": {
        "id": "rexD4wmmq7wC",
        "colab_type": "code",
        "colab": {}
      },
      "source": [
        "tags=y.unique()"
      ],
      "execution_count": 0,
      "outputs": []
    },
    {
      "cell_type": "code",
      "metadata": {
        "id": "uU_0f1yurAdK",
        "colab_type": "code",
        "outputId": "07cdcfed-343f-42b7-e158-c4aa8d45ce3e",
        "colab": {
          "base_uri": "https://localhost:8080/",
          "height": 34
        }
      },
      "source": [
        "print(len(tags))"
      ],
      "execution_count": 0,
      "outputs": [
        {
          "output_type": "stream",
          "text": [
            "31\n"
          ],
          "name": "stdout"
        }
      ]
    },
    {
      "cell_type": "markdown",
      "metadata": {
        "id": "grcUk2On-rvp",
        "colab_type": "text"
      },
      "source": [
        "\n",
        "Vectorization:\n",
        "TfidfVectorizer - Transforms text to feature vectors that can be used as input to estimator. vocabulary_ Is a dictionary that converts each token (word) to feature index in the matrix"
      ]
    },
    {
      "cell_type": "code",
      "metadata": {
        "id": "lbi2VnfVqCJw",
        "colab_type": "code",
        "outputId": "5639a229-6df0-4592-a27b-13a20943f170",
        "colab": {
          "base_uri": "https://localhost:8080/",
          "height": 719
        }
      },
      "source": [
        "#naive bayes\n",
        "\n",
        "from sklearn.naive_bayes import MultinomialNB\n",
        "from sklearn.pipeline import Pipeline\n",
        "from sklearn.feature_extraction.text import TfidfTransformer\n",
        "\n",
        "nb = Pipeline([('vect', CountVectorizer()),\n",
        "               ('tfidf', TfidfTransformer()),\n",
        "               ('clf', MultinomialNB()),\n",
        "              ])\n",
        "nb.fit(X_train, y_train)\n",
        "\n",
        "from sklearn.metrics import classification_report\n",
        "y_pred = nb.predict(X_test)\n",
        "\n",
        "print('accuracy %s' % accuracy_score(y_pred, y_test))\n",
        "# print(classification_report(y_test, y_pred,target_names=tags))\n",
        "print(classification_report(y_test, y_pred))"
      ],
      "execution_count": 0,
      "outputs": [
        {
          "output_type": "stream",
          "text": [
            "accuracy 0.9015956108118991\n"
          ],
          "name": "stdout"
        },
        {
          "output_type": "stream",
          "text": [
            "/usr/local/lib/python3.6/dist-packages/sklearn/metrics/_classification.py:1272: UndefinedMetricWarning: Precision and F-score are ill-defined and being set to 0.0 in labels with no predicted samples. Use `zero_division` parameter to control this behavior.\n",
            "  _warn_prf(average, modifier, msg_start, len(result))\n"
          ],
          "name": "stderr"
        },
        {
          "output_type": "stream",
          "text": [
            "                      precision    recall  f1-score   support\n",
            "\n",
            "                1099       1.00      0.34      0.50       378\n",
            "               Audit       1.00      0.02      0.04       151\n",
            "Bank & CC Statements       1.00      0.89      0.94       119\n",
            "         Bookkeeping       0.87      0.99      0.93      3104\n",
            "             EXCLUDE       1.00      0.46      0.63       566\n",
            "       Expenses (AP)       0.00      0.00      0.00         6\n",
            "           Financial       0.93      0.91      0.92      2921\n",
            "       Financial-Tax       0.00      0.00      0.00         1\n",
            "          Historical       1.00      0.74      0.85        81\n",
            "              Income       0.00      0.00      0.00         1\n",
            "           Insurance       0.00      0.00      0.00         1\n",
            "              Leases       1.00      0.05      0.10        20\n",
            "               Loans       0.00      0.00      0.00         6\n",
            "           Marketing       0.95      1.00      0.97        37\n",
            "       Miscellaneous       0.98      0.56      0.72       103\n",
            "              Notice       0.97      0.93      0.95      1919\n",
            "             Payroll       0.85      0.96      0.90      3930\n",
            "         Payroll Tax       0.00      0.00      0.00       264\n",
            "   Payroll-Permanent       0.00      0.00      0.00         3\n",
            "           Permanent       0.96      0.75      0.84      4173\n",
            "       Permanent-Tax       0.00      0.00      0.00        11\n",
            "        Property Tax       0.00      0.00      0.00        45\n",
            "    Receivables (AR)       0.00      0.00      0.00         1\n",
            "               Sales       1.00      0.70      0.83       368\n",
            "           Sales Tax       1.00      0.91      0.95       384\n",
            "         Source Data       0.89      0.90      0.89      2839\n",
            "    Source Documents       0.96      0.90      0.93      1202\n",
            "          Statements       0.88      0.91      0.89       723\n",
            "                 Tax       0.89      0.98      0.93     16183\n",
            "          Tax Return       0.00      0.00      0.00       194\n",
            "\n",
            "            accuracy                           0.90     39734\n",
            "           macro avg       0.60      0.46      0.49     39734\n",
            "        weighted avg       0.89      0.90      0.89     39734\n",
            "\n"
          ],
          "name": "stdout"
        }
      ]
    },
    {
      "cell_type": "code",
      "metadata": {
        "id": "lWdd85D1F0ew",
        "colab_type": "code",
        "outputId": "6423331c-91ea-4b57-930f-a157a3d2294e",
        "colab": {
          "base_uri": "https://localhost:8080/",
          "height": 719
        }
      },
      "source": [
        "#linear SVM\n",
        "\n",
        "from sklearn.linear_model import SGDClassifier\n",
        "from sklearn.svm import SVC\n",
        "\n",
        "sgd = Pipeline([('vect', CountVectorizer()),\n",
        "                ('tfidf', TfidfTransformer()),\n",
        "                ('clf', SGDClassifier(loss='hinge', penalty='l2',alpha=1e-3, random_state=42, max_iter=5, tol=None)),\n",
        "               ])\n",
        "sgd.fit(X_train, y_train)\n",
        "\n",
        "y_pred = sgd.predict(X_test)\n",
        "\n",
        "print('accuracy %s' % accuracy_score(y_pred, y_test))\n",
        "print(classification_report(y_test, y_pred))"
      ],
      "execution_count": 0,
      "outputs": [
        {
          "output_type": "stream",
          "text": [
            "accuracy 0.9157145014345397\n"
          ],
          "name": "stdout"
        },
        {
          "output_type": "stream",
          "text": [
            "/usr/local/lib/python3.6/dist-packages/sklearn/metrics/_classification.py:1272: UndefinedMetricWarning: Precision and F-score are ill-defined and being set to 0.0 in labels with no predicted samples. Use `zero_division` parameter to control this behavior.\n",
            "  _warn_prf(average, modifier, msg_start, len(result))\n"
          ],
          "name": "stderr"
        },
        {
          "output_type": "stream",
          "text": [
            "                      precision    recall  f1-score   support\n",
            "\n",
            "                1099       0.97      0.49      0.65       378\n",
            "               Audit       1.00      0.02      0.04       151\n",
            "Bank & CC Statements       0.99      0.97      0.98       119\n",
            "         Bookkeeping       0.91      0.95      0.93      3104\n",
            "             EXCLUDE       0.91      0.68      0.78       566\n",
            "       Expenses (AP)       0.00      0.00      0.00         6\n",
            "           Financial       0.93      0.87      0.90      2921\n",
            "       Financial-Tax       0.00      0.00      0.00         1\n",
            "          Historical       1.00      0.74      0.85        81\n",
            "              Income       0.00      0.00      0.00         1\n",
            "           Insurance       0.00      0.00      0.00         1\n",
            "              Leases       0.89      0.40      0.55        20\n",
            "               Loans       0.00      0.00      0.00         6\n",
            "           Marketing       0.95      1.00      0.97        37\n",
            "       Miscellaneous       0.96      0.43      0.59       103\n",
            "              Notice       0.95      0.88      0.91      1919\n",
            "             Payroll       0.89      0.97      0.93      3930\n",
            "         Payroll Tax       0.00      0.00      0.00       264\n",
            "   Payroll-Permanent       0.00      0.00      0.00         3\n",
            "           Permanent       0.89      0.88      0.89      4173\n",
            "       Permanent-Tax       0.00      0.00      0.00        11\n",
            "        Property Tax       1.00      0.09      0.16        45\n",
            "    Receivables (AR)       0.00      0.00      0.00         1\n",
            "               Sales       1.00      0.82      0.90       368\n",
            "           Sales Tax       1.00      0.98      0.99       384\n",
            "         Source Data       0.89      0.92      0.90      2839\n",
            "    Source Documents       0.96      0.94      0.95      1202\n",
            "          Statements       0.83      0.87      0.85       723\n",
            "                 Tax       0.92      0.98      0.95     16183\n",
            "          Tax Return       0.00      0.00      0.00       194\n",
            "\n",
            "            accuracy                           0.92     39734\n",
            "           macro avg       0.63      0.50      0.52     39734\n",
            "        weighted avg       0.91      0.92      0.91     39734\n",
            "\n"
          ],
          "name": "stdout"
        }
      ]
    },
    {
      "cell_type": "code",
      "metadata": {
        "id": "QUyQ0VXlJF5C",
        "colab_type": "code",
        "colab": {}
      },
      "source": [
        "# from sklearn.svm import SVC\n",
        "# sgd = Pipeline([('vect', CountVectorizer()),\n",
        "#                 ('tfidf', TfidfTransformer()),\n",
        "#                 ('clf', SVC(C=10,kernel='rbf'))])\n",
        "\n",
        "\n",
        "# sgd.fit(X_train, y_train)\n",
        "\n",
        "# y_pred = sgd.predict(X_test)\n",
        "\n",
        "# print('accuracy %s' % accuracy_score(y_pred, y_test))\n",
        "# print(classification_report(y_test, y_pred))"
      ],
      "execution_count": 0,
      "outputs": []
    },
    {
      "cell_type": "code",
      "metadata": {
        "id": "vu0vXaoVLgx6",
        "colab_type": "code",
        "outputId": "48409fa3-c08f-44e9-c137-ee3851ef477c",
        "colab": {
          "base_uri": "https://localhost:8080/",
          "height": 719
        }
      },
      "source": [
        "from sklearn.linear_model import LogisticRegression\n",
        "from sklearn.ensemble import AdaBoostClassifier,GradientBoostingClassifier\n",
        "\n",
        "sgd = Pipeline([('vect', CountVectorizer()),\n",
        "                ('tfidf', TfidfTransformer()),\n",
        "                ('clf', GradientBoostingClassifier(learning_rate=0.05, max_depth= 4, n_estimators=100,min_samples_split=2, min_samples_leaf=1, subsample=1,max_features='sqrt'))])\n",
        "sgd.fit(X_train, y_train)\n",
        "\n",
        "y_pred = sgd.predict(X_test)\n",
        "\n",
        "print('accuracy %s' % accuracy_score(y_pred, y_test))\n",
        "print(classification_report(y_test, y_pred))"
      ],
      "execution_count": 0,
      "outputs": [
        {
          "output_type": "stream",
          "text": [
            "accuracy 0.7558262445260986\n"
          ],
          "name": "stdout"
        },
        {
          "output_type": "stream",
          "text": [
            "/usr/local/lib/python3.6/dist-packages/sklearn/metrics/_classification.py:1272: UndefinedMetricWarning: Precision and F-score are ill-defined and being set to 0.0 in labels with no predicted samples. Use `zero_division` parameter to control this behavior.\n",
            "  _warn_prf(average, modifier, msg_start, len(result))\n"
          ],
          "name": "stderr"
        },
        {
          "output_type": "stream",
          "text": [
            "                      precision    recall  f1-score   support\n",
            "\n",
            "                1099       0.76      0.44      0.56       378\n",
            "               Audit       0.91      0.76      0.83       151\n",
            "Bank & CC Statements       0.87      0.79      0.83       119\n",
            "         Bookkeeping       0.94      0.68      0.79      3104\n",
            "             EXCLUDE       0.89      0.64      0.75       566\n",
            "       Expenses (AP)       0.67      0.67      0.67         6\n",
            "           Financial       0.93      0.42      0.58      2921\n",
            "       Financial-Tax       1.00      1.00      1.00         1\n",
            "          Historical       0.90      1.00      0.95        81\n",
            "              Income       0.00      0.00      0.00         1\n",
            "           Insurance       0.00      0.00      0.00         1\n",
            "              Leases       0.68      0.85      0.76        20\n",
            "               Loans       0.60      0.50      0.55         6\n",
            "           Marketing       0.89      0.89      0.89        37\n",
            "       Miscellaneous       0.67      0.62      0.65       103\n",
            "              Notice       0.99      0.59      0.74      1919\n",
            "             Payroll       0.97      0.81      0.88      3930\n",
            "         Payroll Tax       0.96      0.85      0.90       264\n",
            "   Payroll-Permanent       0.00      0.00      0.00         3\n",
            "           Permanent       0.97      0.34      0.50      4173\n",
            "       Permanent-Tax       0.00      0.00      0.00        11\n",
            "        Property Tax       0.00      0.00      0.00        45\n",
            "    Receivables (AR)       0.00      0.00      0.00         1\n",
            "               Sales       0.96      0.60      0.74       368\n",
            "           Sales Tax       0.98      0.82      0.89       384\n",
            "         Source Data       0.93      0.61      0.74      2839\n",
            "    Source Documents       0.94      0.70      0.80      1202\n",
            "          Statements       0.88      0.89      0.89       723\n",
            "                 Tax       0.65      0.98      0.78     16183\n",
            "          Tax Return       0.79      0.56      0.65       194\n",
            "\n",
            "            accuracy                           0.76     39734\n",
            "           macro avg       0.69      0.57      0.61     39734\n",
            "        weighted avg       0.82      0.76      0.74     39734\n",
            "\n"
          ],
          "name": "stdout"
        }
      ]
    },
    {
      "cell_type": "code",
      "metadata": {
        "id": "B927XjP2PrY4",
        "colab_type": "code",
        "outputId": "2e5e86db-83a9-43b9-d172-a191ed1b60b4",
        "colab": {
          "base_uri": "https://localhost:8080/",
          "height": 856
        }
      },
      "source": [
        "from sklearn.linear_model import LogisticRegression\n",
        "from sklearn.metrics import roc_auc_score,confusion_matrix,classification_report\n",
        "\n",
        "logreg = Pipeline([('vect', CountVectorizer()),\n",
        "                ('tfidf', TfidfTransformer()),\n",
        "                ('clf', LogisticRegression(n_jobs=1, C=1e5)),\n",
        "               ])\n",
        "logreg.fit(X_train, y_train)\n",
        "\n",
        "\n",
        "y_pred = logreg.predict(X_test)\n",
        "\n",
        "print('accuracy %s' % accuracy_score(y_pred, y_test))\n",
        "print(classification_report(y_test, y_pred))\n"
      ],
      "execution_count": 0,
      "outputs": [
        {
          "output_type": "stream",
          "text": [
            "/usr/local/lib/python3.6/dist-packages/sklearn/linear_model/_logistic.py:940: ConvergenceWarning: lbfgs failed to converge (status=1):\n",
            "STOP: TOTAL NO. of ITERATIONS REACHED LIMIT.\n",
            "\n",
            "Increase the number of iterations (max_iter) or scale the data as shown in:\n",
            "    https://scikit-learn.org/stable/modules/preprocessing.html\n",
            "Please also refer to the documentation for alternative solver options:\n",
            "    https://scikit-learn.org/stable/modules/linear_model.html#logistic-regression\n",
            "  extra_warning_msg=_LOGISTIC_SOLVER_CONVERGENCE_MSG)\n"
          ],
          "name": "stderr"
        },
        {
          "output_type": "stream",
          "text": [
            "accuracy 0.9940605023405648\n"
          ],
          "name": "stdout"
        },
        {
          "output_type": "stream",
          "text": [
            "/usr/local/lib/python3.6/dist-packages/sklearn/metrics/_classification.py:1272: UndefinedMetricWarning: Precision and F-score are ill-defined and being set to 0.0 in labels with no predicted samples. Use `zero_division` parameter to control this behavior.\n",
            "  _warn_prf(average, modifier, msg_start, len(result))\n"
          ],
          "name": "stderr"
        },
        {
          "output_type": "stream",
          "text": [
            "                      precision    recall  f1-score   support\n",
            "\n",
            "                1099       0.99      0.98      0.99       378\n",
            "               Audit       0.98      0.98      0.98       151\n",
            "Bank & CC Statements       1.00      1.00      1.00       119\n",
            "         Bookkeeping       1.00      1.00      1.00      3104\n",
            "             EXCLUDE       0.99      1.00      0.99       566\n",
            "       Expenses (AP)       1.00      0.83      0.91         6\n",
            "           Financial       0.99      0.99      0.99      2921\n",
            "       Financial-Tax       1.00      1.00      1.00         1\n",
            "          Historical       0.94      1.00      0.97        81\n",
            "              Income       1.00      1.00      1.00         1\n",
            "           Insurance       1.00      1.00      1.00         1\n",
            "              Leases       0.95      1.00      0.98        20\n",
            "               Loans       1.00      1.00      1.00         6\n",
            "           Marketing       0.97      1.00      0.99        37\n",
            "       Miscellaneous       0.99      0.88      0.93       103\n",
            "              Notice       1.00      0.99      0.99      1919\n",
            "             Payroll       0.99      1.00      0.99      3930\n",
            "         Payroll Tax       0.98      0.97      0.98       264\n",
            "   Payroll-Permanent       1.00      0.67      0.80         3\n",
            "           Permanent       0.99      1.00      0.99      4173\n",
            "       Permanent-Tax       0.60      0.55      0.57        11\n",
            "        Property Tax       0.93      0.89      0.91        45\n",
            "    Receivables (AR)       0.00      0.00      0.00         1\n",
            "               Sales       0.99      0.98      0.98       368\n",
            "           Sales Tax       1.00      1.00      1.00       384\n",
            "         Source Data       1.00      1.00      1.00      2839\n",
            "    Source Documents       0.99      0.99      0.99      1202\n",
            "          Statements       0.98      0.99      0.99       723\n",
            "                 Tax       1.00      1.00      1.00     16183\n",
            "          Tax Return       0.98      0.97      0.98       194\n",
            "\n",
            "            accuracy                           0.99     39734\n",
            "           macro avg       0.94      0.92      0.93     39734\n",
            "        weighted avg       0.99      0.99      0.99     39734\n",
            "\n"
          ],
          "name": "stdout"
        }
      ]
    }
  ]
}